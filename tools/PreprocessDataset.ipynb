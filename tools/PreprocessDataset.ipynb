{
 "cells": [
  {
   "cell_type": "code",
   "execution_count": 1,
   "metadata": {},
   "outputs": [
    {
     "name": "stdout",
     "output_type": "stream",
     "text": [
      "creating training sets...\n",
      "creating validation sets...\n",
      "setup nets...\n",
      "creating load\n",
      "setting up optimizer...\n"
     ]
    }
   ],
   "source": [
    "import _init_lib_path\n",
    "\n",
    "from datetime import datetime\n",
    "import datetime as dt\n",
    "import time\n",
    "\n",
    "from utils.config import cfg\n",
    "from epoch_loop import EpochLoop\n",
    "\n",
    "import argparse\n",
    "from utils.config_file_handling import cfg_from_file, cfg_from_list\n",
    "from pprint import PrettyPrinter\n",
    "\n",
    "pp = PrettyPrinter(indent=4)\n",
    "cfg.TRAINING = True\n",
    "import torch\n",
    "torch.set_num_threads(32)\n",
    "from tqdm.notebook import trange, tqdm\n",
    "import numpy as np\n",
    "\n",
    "def parse_args():\n",
    "    \"\"\"\n",
    "    Parse input arguments\n",
    "    \"\"\"\n",
    "    parser = argparse.ArgumentParser(description='Training the network')\n",
    "\n",
    "    parser.add_argument('-d', '--dataset-dir', dest='dataset_dir',\n",
    "                        help='dataset directory', type=str, required=False)\n",
    "    parser.add_argument('-e', '--experiment-dir', dest='experiment_dir',\n",
    "                        help='a directory used to write experiment results', type=str, required=False)\n",
    "    parser.add_argument('-u', '--use-gpu', dest='use_gpu',\n",
    "                        help='whether to use gpu for the net inference', type=int, required=False)\n",
    "    parser.add_argument('-g', '--gpu-id', dest='gpu_id',\n",
    "                        help='gpu id to use', type=int, required=False)\n",
    "    parser.add_argument('-c', '--cfg', dest='cfg_file',\n",
    "                        help='optional config file to override the defaults', default=None, type=str)\n",
    "    parser.add_argument('-s', '--set', dest='set_cfg',\n",
    "                        help='set config arg parameters', default=None, nargs=argparse.REMAINDER)\n",
    "    return parser.parse_args([])\n",
    "\n",
    "\n",
    "def set_positional_cfg(args_in):\n",
    "    args_list = []\n",
    "    for n, a in args_in.__dict__.items():\n",
    "        if a is not None and n not in ['cfg_file', 'set_cfg']:\n",
    "            args_list += [n, a]\n",
    "    return args_list\n",
    "\n",
    "args = parse_args()\n",
    "\n",
    "# print('Called with args:')\n",
    "# print(args)\n",
    "\n",
    "if args.cfg_file is not None:\n",
    "    cfg_from_file(args.cfg_file)\n",
    "if args.set_cfg is not None:\n",
    "    cfg_from_list(args.set_cfg)\n",
    "\n",
    "cfg_from_list(set_positional_cfg(args))     # input arguments override cfg files and defaults\n",
    "\n",
    "# print('configuration file cfg is loaded for training ...')\n",
    "# pp.pprint(cfg)\n",
    "\n",
    "epoch_loop = EpochLoop()\n",
    "started_time = time.time()\n",
    "epoch_loop.create_sets()\n",
    "epoch_loop.setup_net()\n",
    "epoch_loop.net.spatial_stream.load_state_dict(torch.load(\"../experiment/snapshot_UCF101_resnet/20200517_074837_564165/spt_099.pth\"))\n",
    "epoch_loop.net.temporal_stream.load_state_dict(torch.load(\"../experiment/snapshot_UCF101_resnet/20200517_074837_564165/tmp_099.pth\"))\n",
    "\n",
    "epoch_loop.validator.set_net_mode(epoch_loop.net)\n",
    "epoch_loop.validator.reset_meters()"
   ]
  },
  {
   "cell_type": "code",
   "execution_count": null,
   "metadata": {},
   "outputs": [],
   "source": [
    "# for i, (image, flow, annotation) in enumerate(tqdm(epoch_loop.validator.data_container.dataloader)):\n",
    "#     1+1"
   ]
  },
  {
   "cell_type": "code",
   "execution_count": 2,
   "metadata": {},
   "outputs": [
    {
     "data": {
      "application/vnd.jupyter.widget-view+json": {
       "model_id": "8ee389667bbd4185b183daf1fa2b87d0",
       "version_major": 2,
       "version_minor": 0
      },
      "text/plain": [
       "HBox(children=(FloatProgress(value=0.0, max=9537.0), HTML(value='')))"
      ]
     },
     "metadata": {},
     "output_type": "display_data"
    },
    {
     "name": "stdout",
     "output_type": "stream",
     "text": [
      "\n"
     ]
    }
   ],
   "source": [
    "epoch_loop.trainer.set_net_mode(epoch_loop.net)\n",
    "epoch_loop.trainer.reset_meters()\n",
    "\n",
    "for i, (image, flow, annotation) in enumerate(tqdm(epoch_loop.trainer.data_container.dataloader)):\n",
    "    1+1"
   ]
  },
  {
   "cell_type": "code",
   "execution_count": 5,
   "metadata": {},
   "outputs": [],
   "source": [
    "index = 1\n",
    "mode = 'train'\n",
    "images = np.load('/home/srip19-pointcloud/linjun/st-net/spatiotemporal-multiplier-networks-pytorch/dataset/preprocess/{}/{}_images.npy'.format(mode, index), allow_pickle=True)\n",
    "flows = np.load('/home/srip19-pointcloud/linjun/st-net/spatiotemporal-multiplier-networks-pytorch/dataset/preprocess/{}/{}_flows.npy'.format(mode, index), allow_pickle=True)\n",
    "i_annotation = np.load('/home/srip19-pointcloud/linjun/st-net/spatiotemporal-multiplier-networks-pytorch/dataset/preprocess/{}/{}_annotation.npy'.format(mode, index), allow_pickle=True)"
   ]
  },
  {
   "cell_type": "code",
   "execution_count": 6,
   "metadata": {},
   "outputs": [
    {
     "data": {
      "text/plain": [
       "array({'set': 'training', 'label': 0, 'nframes': 116}, dtype=object)"
      ]
     },
     "execution_count": 6,
     "metadata": {},
     "output_type": "execute_result"
    }
   ],
   "source": [
    "i_annotation"
   ]
  },
  {
   "cell_type": "code",
   "execution_count": 8,
   "metadata": {},
   "outputs": [
    {
     "data": {
      "text/plain": [
       "(20, 11, 112, 112)"
      ]
     },
     "execution_count": 8,
     "metadata": {},
     "output_type": "execute_result"
    }
   ],
   "source": [
    "flows.shape"
   ]
  },
  {
   "cell_type": "code",
   "execution_count": null,
   "metadata": {},
   "outputs": [],
   "source": []
  }
 ],
 "metadata": {
  "kernelspec": {
   "display_name": "Python 3",
   "language": "python",
   "name": "python3"
  },
  "language_info": {
   "codemirror_mode": {
    "name": "ipython",
    "version": 3
   },
   "file_extension": ".py",
   "mimetype": "text/x-python",
   "name": "python",
   "nbconvert_exporter": "python",
   "pygments_lexer": "ipython3",
   "version": "3.7.6"
  }
 },
 "nbformat": 4,
 "nbformat_minor": 4
}
